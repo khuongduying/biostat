{
  "nbformat": 4,
  "nbformat_minor": 0,
  "metadata": {
    "colab": {
      "provenance": [],
      "authorship_tag": "ABX9TyMbj0kv7hbPxC1wizobnESD",
      "include_colab_link": true
    },
    "kernelspec": {
      "name": "ir",
      "display_name": "R"
    },
    "language_info": {
      "name": "R"
    }
  },
  "cells": [
    {
      "cell_type": "markdown",
      "metadata": {
        "id": "view-in-github",
        "colab_type": "text"
      },
      "source": [
        "<a href=\"https://colab.research.google.com/github/khuongduying/biostat/blob/main/Molecular_cancer_classification.ipynb\" target=\"_parent\"><img src=\"https://colab.research.google.com/assets/colab-badge.svg\" alt=\"Open In Colab\"/></a>"
      ]
    },
    {
      "cell_type": "markdown",
      "source": [
        "# Case study: Molecular cancer classification"
      ],
      "metadata": {
        "id": "m2eoucSi0KB_"
      }
    },
    {
      "cell_type": "markdown",
      "source": [
        "## Concept"
      ],
      "metadata": {
        "id": "mvlVI4T80ViG"
      }
    },
    {
      "cell_type": "markdown",
      "source": [
        "Keywords:\n",
        "- Gene expression profile\n",
        "- DNA Microarrays\n",
        "- Genetic diagnosis\n",
        "- Golub leukemia"
      ],
      "metadata": {
        "id": "_UKb0Wft0aCq"
      }
    },
    {
      "cell_type": "code",
      "source": [
        "library(devtools)\n",
        "library(ggplot2)"
      ],
      "metadata": {
        "colab": {
          "base_uri": "https://localhost:8080/"
        },
        "id": "FCY1dNgXAH09",
        "outputId": "6adbf339-1054-473f-9b15-aa74e7c8b06f"
      },
      "execution_count": 1,
      "outputs": [
        {
          "output_type": "stream",
          "name": "stderr",
          "text": [
            "Loading required package: usethis\n",
            "\n"
          ]
        }
      ]
    },
    {
      "cell_type": "markdown",
      "source": [
        "#### Install Packages"
      ],
      "metadata": {
        "id": "HC2G8QwZBCN4"
      }
    },
    {
      "cell_type": "code",
      "source": [
        "suppressMessages(devtools::install_github(\"OI-Biostat/oi_biostat_data\"))"
      ],
      "metadata": {
        "colab": {
          "base_uri": "https://localhost:8080/"
        },
        "id": "O9BsXNHPAJRl",
        "outputId": "53db9eae-bcf5-48d7-ccb1-c188682201f9"
      },
      "execution_count": 2,
      "outputs": [
        {
          "output_type": "stream",
          "name": "stdout",
          "text": [
            "highr        (0.9   -> 0.10 ) [CRAN]\n",
            "xfun         (0.41  -> 0.42 ) [CRAN]\n",
            "bit          (4.0.4 -> 4.0.5) [CRAN]\n",
            "isoband      (0.2.6 -> 0.2.7) [CRAN]\n",
            "ggplot2      (3.4.4 -> 3.5.0) [CRAN]\n",
            "usdata       (NA    -> 0.2.0) [CRAN]\n",
            "cherryblo... (NA    -> 0.1.0) [CRAN]\n",
            "airports     (NA    -> 0.1.0) [CRAN]\n",
            "NHANES       (NA    -> 2.1.0) [CRAN]\n",
            "openintro    (NA    -> 2.4.0) [CRAN]\n",
            "\u001b[36m──\u001b[39m \u001b[36mR CMD build\u001b[39m \u001b[36m─────────────────────────────────────────────────────────────────\u001b[39m\n",
            "* checking for file ‘/tmp/Rtmp2kWCKF/remotes1242b255536/OI-Biostat-oi_biostat_data-9ee2cbc/DESCRIPTION’ ... OK\n",
            "* preparing ‘oibiostat’:\n",
            "* checking DESCRIPTION meta-information ... OK\n",
            "* checking for LF line-endings in source and make files and shell scripts\n",
            "* checking for empty or unneeded directories\n",
            "* looking to see if a ‘data/datalist’ file should be added\n",
            "  NB: this package now depends on R (>= 3.5.0)\n",
            "  WARNING: Added dependency on R >= 3.5.0 because serialized objects in\n",
            "  serialize/load version 3 cannot be read in older versions of R.\n",
            "  File(s) containing such objects:\n",
            "    ‘oibiostat/data/swim.rda’\n",
            "* building ‘oibiostat_0.2.0.tar.gz’\n",
            "\n"
          ]
        }
      ]
    },
    {
      "cell_type": "markdown",
      "source": [
        "#### Load the Golub's data"
      ],
      "metadata": {
        "id": "7PSWCa1OBf_I"
      }
    },
    {
      "cell_type": "code",
      "source": [
        "library(oibiostat)"
      ],
      "metadata": {
        "id": "QLPuKV3bAU2x"
      },
      "execution_count": 3,
      "outputs": []
    },
    {
      "cell_type": "code",
      "source": [
        "data(golub)"
      ],
      "metadata": {
        "id": "DUmacXTzA83H"
      },
      "execution_count": 10,
      "outputs": []
    },
    {
      "cell_type": "code",
      "source": [
        "head(golub)"
      ],
      "metadata": {
        "colab": {
          "base_uri": "https://localhost:8080/",
          "height": 341
        },
        "id": "HDrTsqKsBnBP",
        "outputId": "3794fce8-c0a6-4b57-8fa7-6412d70a2230"
      },
      "execution_count": 12,
      "outputs": [
        {
          "output_type": "display_data",
          "data": {
            "text/html": [
              "<table class=\"dataframe\">\n",
              "<caption>A data.frame: 6 × 7135</caption>\n",
              "<thead>\n",
              "\t<tr><th></th><th scope=col>Samples</th><th scope=col>BM.PB</th><th scope=col>Gender</th><th scope=col>Source</th><th scope=col>tissue.mf</th><th scope=col>cancer</th><th scope=col>AFFX-BioB-5_at</th><th scope=col>AFFX-BioB-M_at</th><th scope=col>AFFX-BioB-3_at</th><th scope=col>AFFX-BioC-5_at</th><th scope=col>⋯</th><th scope=col>U48730_at</th><th scope=col>U58516_at</th><th scope=col>U73738_at</th><th scope=col>X06956_at</th><th scope=col>X16699_at</th><th scope=col>X83863_at</th><th scope=col>Z17240_at</th><th scope=col>L49218_f_at</th><th scope=col>M71243_f_at</th><th scope=col>Z78285_f_at</th></tr>\n",
              "\t<tr><th></th><th scope=col>&lt;int&gt;</th><th scope=col>&lt;fct&gt;</th><th scope=col>&lt;fct&gt;</th><th scope=col>&lt;fct&gt;</th><th scope=col>&lt;fct&gt;</th><th scope=col>&lt;fct&gt;</th><th scope=col>&lt;dbl&gt;</th><th scope=col>&lt;dbl&gt;</th><th scope=col>&lt;dbl&gt;</th><th scope=col>&lt;dbl&gt;</th><th scope=col>⋯</th><th scope=col>&lt;dbl&gt;</th><th scope=col>&lt;dbl&gt;</th><th scope=col>&lt;dbl&gt;</th><th scope=col>&lt;dbl&gt;</th><th scope=col>&lt;dbl&gt;</th><th scope=col>&lt;dbl&gt;</th><th scope=col>&lt;dbl&gt;</th><th scope=col>&lt;dbl&gt;</th><th scope=col>&lt;dbl&gt;</th><th scope=col>&lt;dbl&gt;</th></tr>\n",
              "</thead>\n",
              "<tbody>\n",
              "\t<tr><th scope=row>39</th><td>39</td><td>BM</td><td>F</td><td>DFCI</td><td>BM:f</td><td>allB</td><td>-1363.2764</td><td>-1058.585</td><td> -541.469194</td><td>  74.34980</td><td>⋯</td><td> -35.08145</td><td>1565.61880</td><td> -485.6807</td><td>-170.26123</td><td> -919.1143</td><td>1675.0501</td><td> 389.769289</td><td>-526.4492</td><td>-268.9639</td><td> -779.6431</td></tr>\n",
              "\t<tr><th scope=row>40</th><td>40</td><td>BM</td><td>F</td><td>DFCI</td><td>BM:f</td><td>allB</td><td> -796.2851</td><td>-1167.103</td><td>    7.538493</td><td>  83.54473</td><td>⋯</td><td>-404.73777</td><td> 622.49805</td><td>-1275.3547</td><td> 214.82823</td><td> -750.2207</td><td>-441.5893</td><td>   9.841713</td><td>-671.9112</td><td>-671.9112</td><td> -644.2726</td></tr>\n",
              "\t<tr><th scope=row>42</th><td>42</td><td>BM</td><td>F</td><td>DFCI</td><td>BM:f</td><td>allB</td><td> -679.1392</td><td>-1069.832</td><td> -690.301829</td><td>-112.07598</td><td>⋯</td><td> 193.78093</td><td> 162.52548</td><td> -692.5344</td><td> 517.49811</td><td> -674.6741</td><td>1265.3964</td><td> -65.192805</td><td>-714.8597</td><td>3672.0661</td><td> -822.0212</td></tr>\n",
              "\t<tr><th scope=row>47</th><td>47</td><td>BM</td><td>M</td><td>DFCI</td><td>BM:m</td><td>allB</td><td>-1164.4002</td><td>-1109.940</td><td> -990.127218</td><td>-238.57499</td><td>⋯</td><td>-256.00229</td><td> -31.62583</td><td> -621.9755</td><td>-458.59463</td><td> -630.6892</td><td> 937.7676</td><td>-264.715941</td><td>-635.0460</td><td> 475.9442</td><td> -794.0701</td></tr>\n",
              "\t<tr><th scope=row>48</th><td>48</td><td>BM</td><td>F</td><td>DFCI</td><td>BM:f</td><td>allB</td><td>-1299.6538</td><td>-1401.999</td><td>-1077.543813</td><td>-437.34456</td><td>⋯</td><td>-509.20366</td><td> 383.59122</td><td> -905.5175</td><td> -36.67564</td><td>-1116.7397</td><td> 316.0872</td><td>-210.879518</td><td>-953.4235</td><td>-291.4488</td><td>-1057.9459</td></tr>\n",
              "\t<tr><th scope=row>49</th><td>49</td><td>BM</td><td>M</td><td>DFCI</td><td>BM:m</td><td>allB</td><td>-1251.6207</td><td>-1236.344</td><td>-1587.702224</td><td>-640.56347</td><td>⋯</td><td>-527.08141</td><td>2482.37560</td><td> -961.3685</td><td> 378.59275</td><td> -812.9689</td><td>3562.6375</td><td>1284.266900</td><td>-520.5344</td><td>-321.9408</td><td> -832.6100</td></tr>\n",
              "</tbody>\n",
              "</table>\n"
            ],
            "text/markdown": "\nA data.frame: 6 × 7135\n\n| <!--/--> | Samples &lt;int&gt; | BM.PB &lt;fct&gt; | Gender &lt;fct&gt; | Source &lt;fct&gt; | tissue.mf &lt;fct&gt; | cancer &lt;fct&gt; | AFFX-BioB-5_at &lt;dbl&gt; | AFFX-BioB-M_at &lt;dbl&gt; | AFFX-BioB-3_at &lt;dbl&gt; | AFFX-BioC-5_at &lt;dbl&gt; | ⋯ ⋯ | U48730_at &lt;dbl&gt; | U58516_at &lt;dbl&gt; | U73738_at &lt;dbl&gt; | X06956_at &lt;dbl&gt; | X16699_at &lt;dbl&gt; | X83863_at &lt;dbl&gt; | Z17240_at &lt;dbl&gt; | L49218_f_at &lt;dbl&gt; | M71243_f_at &lt;dbl&gt; | Z78285_f_at &lt;dbl&gt; |\n|---|---|---|---|---|---|---|---|---|---|---|---|---|---|---|---|---|---|---|---|---|---|\n| 39 | 39 | BM | F | DFCI | BM:f | allB | -1363.2764 | -1058.585 |  -541.469194 |   74.34980 | ⋯ |  -35.08145 | 1565.61880 |  -485.6807 | -170.26123 |  -919.1143 | 1675.0501 |  389.769289 | -526.4492 | -268.9639 |  -779.6431 |\n| 40 | 40 | BM | F | DFCI | BM:f | allB |  -796.2851 | -1167.103 |     7.538493 |   83.54473 | ⋯ | -404.73777 |  622.49805 | -1275.3547 |  214.82823 |  -750.2207 | -441.5893 |    9.841713 | -671.9112 | -671.9112 |  -644.2726 |\n| 42 | 42 | BM | F | DFCI | BM:f | allB |  -679.1392 | -1069.832 |  -690.301829 | -112.07598 | ⋯ |  193.78093 |  162.52548 |  -692.5344 |  517.49811 |  -674.6741 | 1265.3964 |  -65.192805 | -714.8597 | 3672.0661 |  -822.0212 |\n| 47 | 47 | BM | M | DFCI | BM:m | allB | -1164.4002 | -1109.940 |  -990.127218 | -238.57499 | ⋯ | -256.00229 |  -31.62583 |  -621.9755 | -458.59463 |  -630.6892 |  937.7676 | -264.715941 | -635.0460 |  475.9442 |  -794.0701 |\n| 48 | 48 | BM | F | DFCI | BM:f | allB | -1299.6538 | -1401.999 | -1077.543813 | -437.34456 | ⋯ | -509.20366 |  383.59122 |  -905.5175 |  -36.67564 | -1116.7397 |  316.0872 | -210.879518 | -953.4235 | -291.4488 | -1057.9459 |\n| 49 | 49 | BM | M | DFCI | BM:m | allB | -1251.6207 | -1236.344 | -1587.702224 | -640.56347 | ⋯ | -527.08141 | 2482.37560 |  -961.3685 |  378.59275 |  -812.9689 | 3562.6375 | 1284.266900 | -520.5344 | -321.9408 |  -832.6100 |\n\n",
            "text/latex": "A data.frame: 6 × 7135\n\\begin{tabular}{r|lllllllllllllllllllll}\n  & Samples & BM.PB & Gender & Source & tissue.mf & cancer & AFFX-BioB-5\\_at & AFFX-BioB-M\\_at & AFFX-BioB-3\\_at & AFFX-BioC-5\\_at & ⋯ & U48730\\_at & U58516\\_at & U73738\\_at & X06956\\_at & X16699\\_at & X83863\\_at & Z17240\\_at & L49218\\_f\\_at & M71243\\_f\\_at & Z78285\\_f\\_at\\\\\n  & <int> & <fct> & <fct> & <fct> & <fct> & <fct> & <dbl> & <dbl> & <dbl> & <dbl> & ⋯ & <dbl> & <dbl> & <dbl> & <dbl> & <dbl> & <dbl> & <dbl> & <dbl> & <dbl> & <dbl>\\\\\n\\hline\n\t39 & 39 & BM & F & DFCI & BM:f & allB & -1363.2764 & -1058.585 &  -541.469194 &   74.34980 & ⋯ &  -35.08145 & 1565.61880 &  -485.6807 & -170.26123 &  -919.1143 & 1675.0501 &  389.769289 & -526.4492 & -268.9639 &  -779.6431\\\\\n\t40 & 40 & BM & F & DFCI & BM:f & allB &  -796.2851 & -1167.103 &     7.538493 &   83.54473 & ⋯ & -404.73777 &  622.49805 & -1275.3547 &  214.82823 &  -750.2207 & -441.5893 &    9.841713 & -671.9112 & -671.9112 &  -644.2726\\\\\n\t42 & 42 & BM & F & DFCI & BM:f & allB &  -679.1392 & -1069.832 &  -690.301829 & -112.07598 & ⋯ &  193.78093 &  162.52548 &  -692.5344 &  517.49811 &  -674.6741 & 1265.3964 &  -65.192805 & -714.8597 & 3672.0661 &  -822.0212\\\\\n\t47 & 47 & BM & M & DFCI & BM:m & allB & -1164.4002 & -1109.940 &  -990.127218 & -238.57499 & ⋯ & -256.00229 &  -31.62583 &  -621.9755 & -458.59463 &  -630.6892 &  937.7676 & -264.715941 & -635.0460 &  475.9442 &  -794.0701\\\\\n\t48 & 48 & BM & F & DFCI & BM:f & allB & -1299.6538 & -1401.999 & -1077.543813 & -437.34456 & ⋯ & -509.20366 &  383.59122 &  -905.5175 &  -36.67564 & -1116.7397 &  316.0872 & -210.879518 & -953.4235 & -291.4488 & -1057.9459\\\\\n\t49 & 49 & BM & M & DFCI & BM:m & allB & -1251.6207 & -1236.344 & -1587.702224 & -640.56347 & ⋯ & -527.08141 & 2482.37560 &  -961.3685 &  378.59275 &  -812.9689 & 3562.6375 & 1284.266900 & -520.5344 & -321.9408 &  -832.6100\\\\\n\\end{tabular}\n",
            "text/plain": [
              "   Samples BM.PB Gender Source tissue.mf cancer AFFX-BioB-5_at AFFX-BioB-M_at\n",
              "39 39      BM    F      DFCI   BM:f      allB   -1363.2764     -1058.585     \n",
              "40 40      BM    F      DFCI   BM:f      allB    -796.2851     -1167.103     \n",
              "42 42      BM    F      DFCI   BM:f      allB    -679.1392     -1069.832     \n",
              "47 47      BM    M      DFCI   BM:m      allB   -1164.4002     -1109.940     \n",
              "48 48      BM    F      DFCI   BM:f      allB   -1299.6538     -1401.999     \n",
              "49 49      BM    M      DFCI   BM:m      allB   -1251.6207     -1236.344     \n",
              "   AFFX-BioB-3_at AFFX-BioC-5_at ⋯ U48730_at  U58516_at  U73738_at  X06956_at \n",
              "39  -541.469194     74.34980     ⋯  -35.08145 1565.61880  -485.6807 -170.26123\n",
              "40     7.538493     83.54473     ⋯ -404.73777  622.49805 -1275.3547  214.82823\n",
              "42  -690.301829   -112.07598     ⋯  193.78093  162.52548  -692.5344  517.49811\n",
              "47  -990.127218   -238.57499     ⋯ -256.00229  -31.62583  -621.9755 -458.59463\n",
              "48 -1077.543813   -437.34456     ⋯ -509.20366  383.59122  -905.5175  -36.67564\n",
              "49 -1587.702224   -640.56347     ⋯ -527.08141 2482.37560  -961.3685  378.59275\n",
              "   X16699_at  X83863_at Z17240_at   L49218_f_at M71243_f_at Z78285_f_at\n",
              "39  -919.1143 1675.0501  389.769289 -526.4492   -268.9639    -779.6431 \n",
              "40  -750.2207 -441.5893    9.841713 -671.9112   -671.9112    -644.2726 \n",
              "42  -674.6741 1265.3964  -65.192805 -714.8597   3672.0661    -822.0212 \n",
              "47  -630.6892  937.7676 -264.715941 -635.0460    475.9442    -794.0701 \n",
              "48 -1116.7397  316.0872 -210.879518 -953.4235   -291.4488   -1057.9459 \n",
              "49  -812.9689 3562.6375 1284.266900 -520.5344   -321.9408    -832.6100 "
            ]
          },
          "metadata": {}
        }
      ]
    },
    {
      "cell_type": "code",
      "source": [
        "str(golub)"
      ],
      "metadata": {
        "colab": {
          "base_uri": "https://localhost:8080/"
        },
        "id": "WgbHhRJ_B0Pq",
        "outputId": "7aef06e2-c628-4a80-dedb-ff4f2184389f"
      },
      "execution_count": 13,
      "outputs": [
        {
          "output_type": "stream",
          "name": "stdout",
          "text": [
            "'data.frame':\t72 obs. of  7135 variables:\n",
            " $ Samples                    : int  39 40 42 47 48 49 41 43 44 45 ...\n",
            " $ BM.PB                      : Factor w/ 2 levels \"BM\",\"PB\": 1 1 1 1 1 1 1 1 1 1 ...\n",
            " $ Gender                     : Factor w/ 2 levels \"F\",\"M\": 1 1 1 2 1 2 1 1 1 2 ...\n",
            " $ Source                     : Factor w/ 4 levels \"CALGB\",\"CCG\",..: 3 3 3 3 3 3 3 3 3 3 ...\n",
            " $ tissue.mf                  : Factor w/ 6 levels \"BM:NA\",\"BM:f\",..: 2 2 2 3 2 3 2 2 2 3 ...\n",
            " $ cancer                     : Factor w/ 3 levels \"allB\",\"allT\",..: 1 1 1 1 1 1 1 1 1 1 ...\n",
            " $ AFFX-BioB-5_at             : num  -1363 -796 -679 -1164 -1300 ...\n",
            " $ AFFX-BioB-M_at             : num  -1059 -1167 -1070 -1110 -1402 ...\n",
            " $ AFFX-BioB-3_at             : num  -541.47 7.54 -690.3 -990.13 -1077.54 ...\n",
            " $ AFFX-BioC-5_at             : num  74.3 83.5 -112.1 -238.6 -437.3 ...\n",
            " $ AFFX-BioC-3_at             : num  -1110 -1116 -1199 -1265 -1387 ...\n",
            " $ AFFX-BioDn-5_at            : num  -1546 -1731 -1286 -1219 -1726 ...\n",
            " $ AFFX-BioDn-3_at            : num  -2037 249 -605 -1256 -1500 ...\n",
            " $ AFFX-CreX-5_at             : num  -1256 -1637 -1043 -1010 -1219 ...\n",
            " $ AFFX-CreX-3_at             : num  -335 -149 -728 -522 -995 ...\n",
            " $ AFFX-BioB-5_st             : num  -938 -223 388 -927 -670 ...\n",
            " $ AFFX-BioB-M_st             : num  -526 -119 -599 -940 -1023 ...\n",
            " $ AFFX-BioB-3_st             : num  -1898 -2807 -1882 -1334 -2417 ...\n",
            " $ AFFX-BioC-5_st             : num  -1964 -2029 -782 -1591 -2110 ...\n",
            " $ AFFX-BioC-3_st             : num  -1363 -193 -949 -960 -1297 ...\n",
            " $ AFFX-BioDn-5_st            : num  1.4 -202.1 -699.2 -757 -1084.1 ...\n",
            " $ AFFX-BioDn-3_st            : num  -112 -759 -900 -380 -479 ...\n",
            " $ AFFX-CreX-5_st             : num  -644 -971 -1135 -703 -1234 ...\n",
            " $ AFFX-CreX-3_st             : num  -861 -1621 -1063 -1164 -2101 ...\n",
            " $ hum_alu_at                 : num  97676 47675 57050 89279 23361 ...\n",
            " $ AFFX-DapX-5_at             : num  -507 -548 -637 -452 -1060 ...\n",
            " $ AFFX-DapX-M_at             : num  276 -280 -572 -247 -607 ...\n",
            " $ AFFX-DapX-3_at             : num  -1026 -787 -755 -1010 -1180 ...\n",
            " $ AFFX-LysX-5_at             : num  -732 -527 -646 -666 -1080 ...\n",
            " $ AFFX-LysX-M_at             : num  -1018 -409 -762 -1225 -1058 ...\n",
            " $ AFFX-LysX-3_at             : num  -638 95.1 -618.9 -476 -689.9 ...\n",
            " $ AFFX-PheX-5_at             : num  -913 -771 -844 -596 -1276 ...\n",
            " $ AFFX-PheX-M_at             : num  -634 -1135 -996 -639 -1195 ...\n",
            " $ AFFX-PheX-3_at             : num  -383 -709 -780 -600 -1154 ...\n",
            " $ AFFX-ThrX-5_at             : num  -541 -541 -811 -685 -1112 ...\n",
            " $ AFFX-ThrX-M_at             : num  -737 -716 -885 -413 -1069 ...\n",
            " $ AFFX-ThrX-3_at             : num  -1063 -1448 -1295 -596 -1522 ...\n",
            " $ AFFX-TrpnX-5_at            : num  -387 -677 -614 -618 -949 ...\n",
            " $ AFFX-TrpnX-M_at            : num  -1825 -2015 -1487 -1641 -2543 ...\n",
            " $ AFFX-TrpnX-3_at            : num  -2104 -1538 -1061 -1097 -1814 ...\n",
            " $ AFFX-HUMISGF3A/M97935_5_at : num  -1250 -1556 -1070 -1051 -1916 ...\n",
            " $ AFFX-HUMISGF3A/M97935_MA_at: num  -1048 -1953 -1005 -522 -1968 ...\n",
            " $ AFFX-HUMISGF3A/M97935_MB_at: num  -340 -375 -295 -193 -899 ...\n",
            " $ AFFX-HUMISGF3A/M97935_3_at : num  -56.5 263.2 459.5 2558.5 398.8 ...\n",
            " $ AFFX-HUMRGE/M10098_5_at    : num  -507 -999 -851 -674 2147 ...\n",
            " $ AFFX-HUMRGE/M10098_M_at    : num  -1140 -1296 -1490 -1047 360 ...\n",
            " $ AFFX-HUMRGE/M10098_3_at    : num  -1353 -1450 -1427 -1143 -228 ...\n",
            " $ AFFX-HUMGAPDH/M33197_5_at  : num  12972 24178 33740 16269 30863 ...\n",
            " $ AFFX-HUMGAPDH/M33197_M_at  : num  10526 22913 31297 20239 22229 ...\n",
            " $ AFFX-HUMGAPDH/M33197_3_at  : num  18779 48320 38866 34760 36572 ...\n",
            " $ AFFX-HSAC07/X00351_5_at    : num  41300 22107 33570 14305 24321 ...\n",
            " $ AFFX-HSAC07/X00351_M_at    : num  58953 29970 45695 26619 31076 ...\n",
            " $ AFFX-HSAC07/X00351_3_at    : num  51891 40104 44293 39254 32306 ...\n",
            " $ AFFX-HUMTFRR/M11507_5_at   : num  -309.7 -93.8 381.3 -81.7 -544 ...\n",
            " $ AFFX-HUMTFRR/M11507_M_at   : num  -589 -614 163 -417 -1030 ...\n",
            " $ AFFX-HUMTFRR/M11507_3_at   : num  -138 -736 1189 -165 -533 ...\n",
            " $ AFFX-M27830_5_at           : num  13142 -384 -266 -265 2230 ...\n",
            " $ AFFX-M27830_M_at           : num  58822 4077 5036 1219 5444 ...\n",
            " $ AFFX-M27830_3_at           : num  349 196.4 1106.9 68.6 1080.4 ...\n",
            " $ AFFX-HSAC07/X00351_3_st    : num  705 788 1596 1474 1636 ...\n",
            " $ AFFX-HUMGAPDH/M33197_5_st  : num  -475 -753 -440 -757 -940 ...\n",
            " $ AFFX-HUMGAPDH/M33197_M_st  : num  -56.54 -3.98 -710.39 -51.23 -809.71 ...\n",
            " $ AFFX-HUMGAPDH/M33197_3_st  : num  -780 418 -376 -452 -446 ...\n",
            " $ AFFX-HSAC07/X00351_5_st    : num  -1271 -953 -1246 -923 -1245 ...\n",
            " $ AFFX-HSAC07/X00351_M_st    : num  -215 924 243 -644 -727 ...\n",
            " $ A28102_at                  : num  -112 394 -514 -493 -450 ...\n",
            " $ AB000114_at                : num  -711 -587 -659 -1097 -956 ...\n",
            " $ AB000115_at                : num  -90.9 -294.2 -420.2 1863.6 -737.8 ...\n",
            " $ AB000220_at                : num  -419 -439 -639 -559 -916 ...\n",
            " $ AB000409_at                : num  -1187 -179 -996 -803 -1017 ...\n",
            " $ AB000449_at                : num  -309.7 -434.7 -96.4 -14.2 797.3 ...\n",
            " $ AB000450_at                : num  -39.4 339.2 -476 -260.4 -167.3 ...\n",
            " $ AB000460_at                : num  4891 3925 1687 2737 3822 ...\n",
            " $ AB000462_at                : num  -269 -409 -480 -114 -481 ...\n",
            " $ AB000464_at                : num  1840 1756 455 633 273 ...\n",
            " $ AB000466_at                : num  -2528 -2982 -3588 -1618 -3294 ...\n",
            " $ AB000467_at                : num  -2524 -2438 -2298 -1439 -3462 ...\n",
            " $ AB000468_at                : num  -857 -559 -121 1040 2829 ...\n",
            " $ AB000584_at                : num  -2099 -1195 -1432 -1238 -1931 ...\n",
            " $ AB000895_at                : num  -314 -2648 -1005 -1430 -2404 ...\n",
            " $ AB000896_at                : num  -1333 -333 -869 -720 -1145 ...\n",
            " $ AB000897_at                : num  -795 -649 -983 -757 -1141 ...\n",
            " $ AB000905_at                : num  16.4 -414 -364.4 -693.9 -716.1 ...\n",
            " $ AB001106_at                : num  -391.3 -70.8 -145.6 -242.9 862.7 ...\n",
            " $ AB001325_at                : num  1551 604 823 1223 882 ...\n",
            " $ AB002314_at                : num  -758 -1061 -742 -618 -1319 ...\n",
            " $ AB002315_at                : num  -221.8 -614.3 -33.9 -210.3 -396 ...\n",
            " $ AB002318_at                : num  2016 579 1752 1112 2581 ...\n",
            " $ AB002365_at                : num  -185 673 -699 -781 -1034 ...\n",
            " $ AB002366_at                : num  -629 -1209 -655 -550 -934 ...\n",
            " $ AB002380_at                : num  -537 -633 -396 -339 -940 ...\n",
            " $ AB002382_at                : num  1016 795 -335 119 253 ...\n",
            " $ AB002409_at                : num  -211 -354 -1110 -413 -1241 ...\n",
            " $ AB002559_at                : num  1975 1892 1623 833 525 ...\n",
            " $ AB003102_at                : num  360 641 1210 306 1734 ...\n",
            " $ AB003103_at                : num  -526.4 -165.2 -636.7 -434.6 -47.6 ...\n",
            " $ AB003177_at                : num  37.9 1792.5 1252 110 1202.3 ...\n",
            " $ AB003698_at                : num  -383 -193 -306 -289 519 ...\n",
            " $ AB004884_at                : num  431 751 1201 1007 2587 ...\n",
            "  [list output truncated]\n"
          ]
        }
      ]
    },
    {
      "cell_type": "code",
      "source": [
        "dim(golub)"
      ],
      "metadata": {
        "colab": {
          "base_uri": "https://localhost:8080/",
          "height": 34
        },
        "id": "nZQhQPcfCQRC",
        "outputId": "43ad55f8-1af5-4b68-a7f7-f3a0fc97bd5f"
      },
      "execution_count": 14,
      "outputs": [
        {
          "output_type": "display_data",
          "data": {
            "text/html": [
              "<style>\n",
              ".list-inline {list-style: none; margin:0; padding: 0}\n",
              ".list-inline>li {display: inline-block}\n",
              ".list-inline>li:not(:last-child)::after {content: \"\\00b7\"; padding: 0 .5ex}\n",
              "</style>\n",
              "<ol class=list-inline><li>72</li><li>7135</li></ol>\n"
            ],
            "text/markdown": "1. 72\n2. 7135\n\n\n",
            "text/latex": "\\begin{enumerate*}\n\\item 72\n\\item 7135\n\\end{enumerate*}\n",
            "text/plain": [
              "[1]   72 7135"
            ]
          },
          "metadata": {}
        }
      ]
    },
    {
      "cell_type": "markdown",
      "source": [
        "Each row corresponds to a patient."
      ],
      "metadata": {
        "id": "vqcfBrBUCwVL"
      }
    },
    {
      "cell_type": "code",
      "source": [
        "golub[1:5, 1:7]"
      ],
      "metadata": {
        "colab": {
          "base_uri": "https://localhost:8080/",
          "height": 255
        },
        "id": "fvPLL_UsC3-u",
        "outputId": "7bd52717-272f-47ba-f090-34db641a7c57"
      },
      "execution_count": 15,
      "outputs": [
        {
          "output_type": "display_data",
          "data": {
            "text/html": [
              "<table class=\"dataframe\">\n",
              "<caption>A data.frame: 5 × 7</caption>\n",
              "<thead>\n",
              "\t<tr><th></th><th scope=col>Samples</th><th scope=col>BM.PB</th><th scope=col>Gender</th><th scope=col>Source</th><th scope=col>tissue.mf</th><th scope=col>cancer</th><th scope=col>AFFX-BioB-5_at</th></tr>\n",
              "\t<tr><th></th><th scope=col>&lt;int&gt;</th><th scope=col>&lt;fct&gt;</th><th scope=col>&lt;fct&gt;</th><th scope=col>&lt;fct&gt;</th><th scope=col>&lt;fct&gt;</th><th scope=col>&lt;fct&gt;</th><th scope=col>&lt;dbl&gt;</th></tr>\n",
              "</thead>\n",
              "<tbody>\n",
              "\t<tr><th scope=row>39</th><td>39</td><td>BM</td><td>F</td><td>DFCI</td><td>BM:f</td><td>allB</td><td>-1363.2764</td></tr>\n",
              "\t<tr><th scope=row>40</th><td>40</td><td>BM</td><td>F</td><td>DFCI</td><td>BM:f</td><td>allB</td><td> -796.2851</td></tr>\n",
              "\t<tr><th scope=row>42</th><td>42</td><td>BM</td><td>F</td><td>DFCI</td><td>BM:f</td><td>allB</td><td> -679.1392</td></tr>\n",
              "\t<tr><th scope=row>47</th><td>47</td><td>BM</td><td>M</td><td>DFCI</td><td>BM:m</td><td>allB</td><td>-1164.4002</td></tr>\n",
              "\t<tr><th scope=row>48</th><td>48</td><td>BM</td><td>F</td><td>DFCI</td><td>BM:f</td><td>allB</td><td>-1299.6538</td></tr>\n",
              "</tbody>\n",
              "</table>\n"
            ],
            "text/markdown": "\nA data.frame: 5 × 7\n\n| <!--/--> | Samples &lt;int&gt; | BM.PB &lt;fct&gt; | Gender &lt;fct&gt; | Source &lt;fct&gt; | tissue.mf &lt;fct&gt; | cancer &lt;fct&gt; | AFFX-BioB-5_at &lt;dbl&gt; |\n|---|---|---|---|---|---|---|---|\n| 39 | 39 | BM | F | DFCI | BM:f | allB | -1363.2764 |\n| 40 | 40 | BM | F | DFCI | BM:f | allB |  -796.2851 |\n| 42 | 42 | BM | F | DFCI | BM:f | allB |  -679.1392 |\n| 47 | 47 | BM | M | DFCI | BM:m | allB | -1164.4002 |\n| 48 | 48 | BM | F | DFCI | BM:f | allB | -1299.6538 |\n\n",
            "text/latex": "A data.frame: 5 × 7\n\\begin{tabular}{r|lllllll}\n  & Samples & BM.PB & Gender & Source & tissue.mf & cancer & AFFX-BioB-5\\_at\\\\\n  & <int> & <fct> & <fct> & <fct> & <fct> & <fct> & <dbl>\\\\\n\\hline\n\t39 & 39 & BM & F & DFCI & BM:f & allB & -1363.2764\\\\\n\t40 & 40 & BM & F & DFCI & BM:f & allB &  -796.2851\\\\\n\t42 & 42 & BM & F & DFCI & BM:f & allB &  -679.1392\\\\\n\t47 & 47 & BM & M & DFCI & BM:m & allB & -1164.4002\\\\\n\t48 & 48 & BM & F & DFCI & BM:f & allB & -1299.6538\\\\\n\\end{tabular}\n",
            "text/plain": [
              "   Samples BM.PB Gender Source tissue.mf cancer AFFX-BioB-5_at\n",
              "39 39      BM    F      DFCI   BM:f      allB   -1363.2764    \n",
              "40 40      BM    F      DFCI   BM:f      allB    -796.2851    \n",
              "42 42      BM    F      DFCI   BM:f      allB    -679.1392    \n",
              "47 47      BM    M      DFCI   BM:m      allB   -1164.4002    \n",
              "48 48      BM    F      DFCI   BM:f      allB   -1299.6538    "
            ]
          },
          "metadata": {}
        }
      ]
    },
    {
      "cell_type": "markdown",
      "source": [
        ">These five patients were all treated at the Dana Farber Cancer Institute (DFCI) (Source) for\n",
        "ALL with B-cell origin (cancer), and samples were taken from bone marrow (BM.PB). Four of the\n",
        "patients were female and one was male (Gender). The last row in the table shows the normalized\n",
        "gene expression level for the gene corresponding to the probe AFFX.BioB.5.at."
      ],
      "metadata": {
        "id": "7cfNUv7tDOp2"
      }
    },
    {
      "cell_type": "markdown",
      "source": [
        "## Goal of the Golub study"
      ],
      "metadata": {
        "id": "LBPYgP8FDT_F"
      }
    },
    {
      "cell_type": "markdown",
      "source": [
        "> Develop a procedure for distinguishing between AML\n",
        "and ALL based only on the gene expression levels of a patient."
      ],
      "metadata": {
        "id": "77gut5jDDbpg"
      }
    },
    {
      "cell_type": "markdown",
      "source": [
        "There are two major issues to be addressed:\n",
        "1. Which genes are the most informative for making a prediction?\n",
        "2. How can leukemia type be predicted from expression data?"
      ],
      "metadata": {
        "id": "i7s6n7P5DmVg"
      }
    },
    {
      "cell_type": "markdown",
      "source": [
        "A small version of the dataset (golub.small) that contains only\n",
        "the data for 10 patients and 10 genes.\n",
        "\n",
        "The expression values have been rounded to the nearest whole number, and the gene probes are labeled A-J for convenience."
      ],
      "metadata": {
        "id": "yAdohGN7GeMd"
      }
    },
    {
      "cell_type": "code",
      "source": [
        "## Small version of the dataset (golub.small)\n",
        "data(golub.small)"
      ],
      "metadata": {
        "id": "JIs21nsuD1_X"
      },
      "execution_count": 16,
      "outputs": []
    },
    {
      "cell_type": "code",
      "source": [
        "head(golub.small)"
      ],
      "metadata": {
        "colab": {
          "base_uri": "https://localhost:8080/",
          "height": 286
        },
        "id": "9_fbrP6_Dq85",
        "outputId": "5c197589-d46d-47c6-e34a-1c1959239bc5"
      },
      "execution_count": 17,
      "outputs": [
        {
          "output_type": "display_data",
          "data": {
            "text/html": [
              "<table class=\"dataframe\">\n",
              "<caption>A data.frame: 6 × 11</caption>\n",
              "<thead>\n",
              "\t<tr><th></th><th scope=col>cancer</th><th scope=col>A</th><th scope=col>B</th><th scope=col>C</th><th scope=col>D</th><th scope=col>E</th><th scope=col>F</th><th scope=col>G</th><th scope=col>H</th><th scope=col>I</th><th scope=col>J</th></tr>\n",
              "\t<tr><th></th><th scope=col>&lt;chr&gt;</th><th scope=col>&lt;dbl&gt;</th><th scope=col>&lt;dbl&gt;</th><th scope=col>&lt;dbl&gt;</th><th scope=col>&lt;dbl&gt;</th><th scope=col>&lt;dbl&gt;</th><th scope=col>&lt;dbl&gt;</th><th scope=col>&lt;dbl&gt;</th><th scope=col>&lt;dbl&gt;</th><th scope=col>&lt;dbl&gt;</th><th scope=col>&lt;dbl&gt;</th></tr>\n",
              "</thead>\n",
              "<tbody>\n",
              "\t<tr><th scope=row>69</th><td>allB</td><td>39307.96</td><td>35232.401</td><td>41170.76</td><td>35792.79</td><td>-592.67115</td><td>-1053.3868</td><td>-512.93190</td><td>-537.29667</td><td>1702.0472</td><td>1119.5077</td></tr>\n",
              "\t<tr><th scope=row>67</th><td>allT</td><td>32281.88</td><td>41432.024</td><td>59328.51</td><td>49608.14</td><td>-123.05352</td><td> -511.3358</td><td> 265.22875</td><td>-271.71016</td><td>3566.7374</td><td>-489.1482</td></tr>\n",
              "\t<tr><th scope=row>55</th><td>allB</td><td>47429.94</td><td>35568.928</td><td>56074.96</td><td>42857.78</td><td>-208.15727</td><td> -711.8142</td><td>  31.67937</td><td>-312.81326</td><td> 432.8607</td><td> 400.1556</td></tr>\n",
              "\t<tr><th scope=row>56</th><td>allB</td><td>25533.87</td><td>16983.749</td><td>28056.75</td><td>32693.92</td><td>  88.88843</td><td> -533.7245</td><td> -23.52779</td><td> 194.81909</td><td>3355.4443</td><td> 990.3800</td></tr>\n",
              "\t<tr><th scope=row>59</th><td>allB</td><td>35960.55</td><td>24191.746</td><td>27637.90</td><td>22240.75</td><td>-273.74814</td><td> -632.3431</td><td>-488.49991</td><td>  20.01608</td><td>2258.7020</td><td> 348.2216</td></tr>\n",
              "\t<tr><th scope=row>52</th><td>aml </td><td>46177.95</td><td> 6189.465</td><td>12557.24</td><td>34485.41</td><td>-331.45369</td><td> -776.3910</td><td>-550.81815</td><td> -47.93547</td><td>4074.4609</td><td>-577.7213</td></tr>\n",
              "</tbody>\n",
              "</table>\n"
            ],
            "text/markdown": "\nA data.frame: 6 × 11\n\n| <!--/--> | cancer &lt;chr&gt; | A &lt;dbl&gt; | B &lt;dbl&gt; | C &lt;dbl&gt; | D &lt;dbl&gt; | E &lt;dbl&gt; | F &lt;dbl&gt; | G &lt;dbl&gt; | H &lt;dbl&gt; | I &lt;dbl&gt; | J &lt;dbl&gt; |\n|---|---|---|---|---|---|---|---|---|---|---|---|\n| 69 | allB | 39307.96 | 35232.401 | 41170.76 | 35792.79 | -592.67115 | -1053.3868 | -512.93190 | -537.29667 | 1702.0472 | 1119.5077 |\n| 67 | allT | 32281.88 | 41432.024 | 59328.51 | 49608.14 | -123.05352 |  -511.3358 |  265.22875 | -271.71016 | 3566.7374 | -489.1482 |\n| 55 | allB | 47429.94 | 35568.928 | 56074.96 | 42857.78 | -208.15727 |  -711.8142 |   31.67937 | -312.81326 |  432.8607 |  400.1556 |\n| 56 | allB | 25533.87 | 16983.749 | 28056.75 | 32693.92 |   88.88843 |  -533.7245 |  -23.52779 |  194.81909 | 3355.4443 |  990.3800 |\n| 59 | allB | 35960.55 | 24191.746 | 27637.90 | 22240.75 | -273.74814 |  -632.3431 | -488.49991 |   20.01608 | 2258.7020 |  348.2216 |\n| 52 | aml  | 46177.95 |  6189.465 | 12557.24 | 34485.41 | -331.45369 |  -776.3910 | -550.81815 |  -47.93547 | 4074.4609 | -577.7213 |\n\n",
            "text/latex": "A data.frame: 6 × 11\n\\begin{tabular}{r|lllllllllll}\n  & cancer & A & B & C & D & E & F & G & H & I & J\\\\\n  & <chr> & <dbl> & <dbl> & <dbl> & <dbl> & <dbl> & <dbl> & <dbl> & <dbl> & <dbl> & <dbl>\\\\\n\\hline\n\t69 & allB & 39307.96 & 35232.401 & 41170.76 & 35792.79 & -592.67115 & -1053.3868 & -512.93190 & -537.29667 & 1702.0472 & 1119.5077\\\\\n\t67 & allT & 32281.88 & 41432.024 & 59328.51 & 49608.14 & -123.05352 &  -511.3358 &  265.22875 & -271.71016 & 3566.7374 & -489.1482\\\\\n\t55 & allB & 47429.94 & 35568.928 & 56074.96 & 42857.78 & -208.15727 &  -711.8142 &   31.67937 & -312.81326 &  432.8607 &  400.1556\\\\\n\t56 & allB & 25533.87 & 16983.749 & 28056.75 & 32693.92 &   88.88843 &  -533.7245 &  -23.52779 &  194.81909 & 3355.4443 &  990.3800\\\\\n\t59 & allB & 35960.55 & 24191.746 & 27637.90 & 22240.75 & -273.74814 &  -632.3431 & -488.49991 &   20.01608 & 2258.7020 &  348.2216\\\\\n\t52 & aml  & 46177.95 &  6189.465 & 12557.24 & 34485.41 & -331.45369 &  -776.3910 & -550.81815 &  -47.93547 & 4074.4609 & -577.7213\\\\\n\\end{tabular}\n",
            "text/plain": [
              "   cancer A        B         C        D        E          F          G         \n",
              "69 allB   39307.96 35232.401 41170.76 35792.79 -592.67115 -1053.3868 -512.93190\n",
              "67 allT   32281.88 41432.024 59328.51 49608.14 -123.05352  -511.3358  265.22875\n",
              "55 allB   47429.94 35568.928 56074.96 42857.78 -208.15727  -711.8142   31.67937\n",
              "56 allB   25533.87 16983.749 28056.75 32693.92   88.88843  -533.7245  -23.52779\n",
              "59 allB   35960.55 24191.746 27637.90 22240.75 -273.74814  -632.3431 -488.49991\n",
              "52 aml    46177.95  6189.465 12557.24 34485.41 -331.45369  -776.3910 -550.81815\n",
              "   H          I         J        \n",
              "69 -537.29667 1702.0472 1119.5077\n",
              "67 -271.71016 3566.7374 -489.1482\n",
              "55 -312.81326  432.8607  400.1556\n",
              "56  194.81909 3355.4443  990.3800\n",
              "59   20.01608 2258.7020  348.2216\n",
              "52  -47.93547 4074.4609 -577.7213"
            ]
          },
          "metadata": {}
        }
      ]
    },
    {
      "cell_type": "markdown",
      "source": [
        "To start understanding how gene expression differs by leukemia type, summarize the data\n",
        "separately for AML patients and for ALL patients, then make comparisons"
      ],
      "metadata": {
        "id": "GeZY7MM0GY8B"
      }
    },
    {
      "cell_type": "code",
      "source": [
        "library(tidyverse)"
      ],
      "metadata": {
        "colab": {
          "base_uri": "https://localhost:8080/"
        },
        "id": "xvHu48avJqUW",
        "outputId": "be57b909-f117-4117-d2d1-52cdbdbaaf30"
      },
      "execution_count": 19,
      "outputs": [
        {
          "output_type": "stream",
          "name": "stderr",
          "text": [
            "── \u001b[1mAttaching core tidyverse packages\u001b[22m ──────────────────────── tidyverse 2.0.0 ──\n",
            "\u001b[32m✔\u001b[39m \u001b[34mdplyr    \u001b[39m 1.1.4     \u001b[32m✔\u001b[39m \u001b[34mreadr    \u001b[39m 2.1.5\n",
            "\u001b[32m✔\u001b[39m \u001b[34mforcats  \u001b[39m 1.0.0     \u001b[32m✔\u001b[39m \u001b[34mstringr  \u001b[39m 1.5.1\n",
            "\u001b[32m✔\u001b[39m \u001b[34mlubridate\u001b[39m 1.9.3     \u001b[32m✔\u001b[39m \u001b[34mtibble   \u001b[39m 3.2.1\n",
            "\u001b[32m✔\u001b[39m \u001b[34mpurrr    \u001b[39m 1.0.2     \u001b[32m✔\u001b[39m \u001b[34mtidyr    \u001b[39m 1.3.1\n",
            "── \u001b[1mConflicts\u001b[22m ────────────────────────────────────────── tidyverse_conflicts() ──\n",
            "\u001b[31m✖\u001b[39m \u001b[34mdplyr\u001b[39m::\u001b[32mfilter()\u001b[39m masks \u001b[34mstats\u001b[39m::filter()\n",
            "\u001b[31m✖\u001b[39m \u001b[34mdplyr\u001b[39m::\u001b[32mlag()\u001b[39m    masks \u001b[34mstats\u001b[39m::lag()\n",
            "\u001b[36mℹ\u001b[39m Use the conflicted package (\u001b[3m\u001b[34m<http://conflicted.r-lib.org/>\u001b[39m\u001b[23m) to force all conflicts to become errors\n"
          ]
        }
      ]
    },
    {
      "cell_type": "code",
      "source": [
        "# Subset AML\n",
        "golub_aml <- golub.small |>\n",
        "  filter(cancer==\"aml\")\n",
        "\n",
        "golub_aml"
      ],
      "metadata": {
        "colab": {
          "base_uri": "https://localhost:8080/",
          "height": 255
        },
        "id": "awUquQIYJ_NE",
        "outputId": "479188bb-3398-4693-e566-6d6f64a3f1dd"
      },
      "execution_count": 26,
      "outputs": [
        {
          "output_type": "display_data",
          "data": {
            "text/html": [
              "<table class=\"dataframe\">\n",
              "<caption>A data.frame: 5 × 11</caption>\n",
              "<thead>\n",
              "\t<tr><th></th><th scope=col>cancer</th><th scope=col>A</th><th scope=col>B</th><th scope=col>C</th><th scope=col>D</th><th scope=col>E</th><th scope=col>F</th><th scope=col>G</th><th scope=col>H</th><th scope=col>I</th><th scope=col>J</th></tr>\n",
              "\t<tr><th></th><th scope=col>&lt;chr&gt;</th><th scope=col>&lt;dbl&gt;</th><th scope=col>&lt;dbl&gt;</th><th scope=col>&lt;dbl&gt;</th><th scope=col>&lt;dbl&gt;</th><th scope=col>&lt;dbl&gt;</th><th scope=col>&lt;dbl&gt;</th><th scope=col>&lt;dbl&gt;</th><th scope=col>&lt;dbl&gt;</th><th scope=col>&lt;dbl&gt;</th><th scope=col>&lt;dbl&gt;</th></tr>\n",
              "</thead>\n",
              "<tbody>\n",
              "\t<tr><th scope=row>52</th><td>aml</td><td>46177.95</td><td> 6189.465</td><td>12557.24</td><td>34485.41</td><td>-331.45369</td><td>-776.3910</td><td>-550.8182</td><td> -47.93547</td><td>4074.4609</td><td> -577.7213</td></tr>\n",
              "\t<tr><th scope=row>53</th><td>aml</td><td>43790.70</td><td>33661.825</td><td>38380.30</td><td>29758.25</td><td> -46.89919</td><td> 123.9995</td><td>1118.1297</td><td>3425.26199</td><td>7018.3027</td><td> 1132.7186</td></tr>\n",
              "\t<tr><th scope=row>51</th><td>aml</td><td>53420.05</td><td>26109.245</td><td>31427.20</td><td>23809.70</td><td> 396.17639</td><td> 108.2003</td><td>1040.3897</td><td>1914.98382</td><td>4095.0698</td><td> -708.7987</td></tr>\n",
              "\t<tr><th scope=row>50</th><td>aml</td><td>41241.59</td><td>37589.773</td><td>47325.77</td><td>30099.36</td><td>  14.68315</td><td>-429.1604</td><td> 783.7190</td><td>-532.43091</td><td>1084.7416</td><td>-1912.3009</td></tr>\n",
              "\t<tr><th scope=row>54</th><td>aml</td><td>41300.57</td><td>49198.412</td><td>66026.10</td><td>56248.62</td><td>-417.94184</td><td>-947.7141</td><td>-339.5355</td><td>-905.33234</td><td> 876.8216</td><td>  745.4381</td></tr>\n",
              "</tbody>\n",
              "</table>\n"
            ],
            "text/markdown": "\nA data.frame: 5 × 11\n\n| <!--/--> | cancer &lt;chr&gt; | A &lt;dbl&gt; | B &lt;dbl&gt; | C &lt;dbl&gt; | D &lt;dbl&gt; | E &lt;dbl&gt; | F &lt;dbl&gt; | G &lt;dbl&gt; | H &lt;dbl&gt; | I &lt;dbl&gt; | J &lt;dbl&gt; |\n|---|---|---|---|---|---|---|---|---|---|---|---|\n| 52 | aml | 46177.95 |  6189.465 | 12557.24 | 34485.41 | -331.45369 | -776.3910 | -550.8182 |  -47.93547 | 4074.4609 |  -577.7213 |\n| 53 | aml | 43790.70 | 33661.825 | 38380.30 | 29758.25 |  -46.89919 |  123.9995 | 1118.1297 | 3425.26199 | 7018.3027 |  1132.7186 |\n| 51 | aml | 53420.05 | 26109.245 | 31427.20 | 23809.70 |  396.17639 |  108.2003 | 1040.3897 | 1914.98382 | 4095.0698 |  -708.7987 |\n| 50 | aml | 41241.59 | 37589.773 | 47325.77 | 30099.36 |   14.68315 | -429.1604 |  783.7190 | -532.43091 | 1084.7416 | -1912.3009 |\n| 54 | aml | 41300.57 | 49198.412 | 66026.10 | 56248.62 | -417.94184 | -947.7141 | -339.5355 | -905.33234 |  876.8216 |   745.4381 |\n\n",
            "text/latex": "A data.frame: 5 × 11\n\\begin{tabular}{r|lllllllllll}\n  & cancer & A & B & C & D & E & F & G & H & I & J\\\\\n  & <chr> & <dbl> & <dbl> & <dbl> & <dbl> & <dbl> & <dbl> & <dbl> & <dbl> & <dbl> & <dbl>\\\\\n\\hline\n\t52 & aml & 46177.95 &  6189.465 & 12557.24 & 34485.41 & -331.45369 & -776.3910 & -550.8182 &  -47.93547 & 4074.4609 &  -577.7213\\\\\n\t53 & aml & 43790.70 & 33661.825 & 38380.30 & 29758.25 &  -46.89919 &  123.9995 & 1118.1297 & 3425.26199 & 7018.3027 &  1132.7186\\\\\n\t51 & aml & 53420.05 & 26109.245 & 31427.20 & 23809.70 &  396.17639 &  108.2003 & 1040.3897 & 1914.98382 & 4095.0698 &  -708.7987\\\\\n\t50 & aml & 41241.59 & 37589.773 & 47325.77 & 30099.36 &   14.68315 & -429.1604 &  783.7190 & -532.43091 & 1084.7416 & -1912.3009\\\\\n\t54 & aml & 41300.57 & 49198.412 & 66026.10 & 56248.62 & -417.94184 & -947.7141 & -339.5355 & -905.33234 &  876.8216 &   745.4381\\\\\n\\end{tabular}\n",
            "text/plain": [
              "   cancer A        B         C        D        E          F         G        \n",
              "52 aml    46177.95  6189.465 12557.24 34485.41 -331.45369 -776.3910 -550.8182\n",
              "53 aml    43790.70 33661.825 38380.30 29758.25  -46.89919  123.9995 1118.1297\n",
              "51 aml    53420.05 26109.245 31427.20 23809.70  396.17639  108.2003 1040.3897\n",
              "50 aml    41241.59 37589.773 47325.77 30099.36   14.68315 -429.1604  783.7190\n",
              "54 aml    41300.57 49198.412 66026.10 56248.62 -417.94184 -947.7141 -339.5355\n",
              "   H          I         J         \n",
              "52  -47.93547 4074.4609  -577.7213\n",
              "53 3425.26199 7018.3027  1132.7186\n",
              "51 1914.98382 4095.0698  -708.7987\n",
              "50 -532.43091 1084.7416 -1912.3009\n",
              "54 -905.33234  876.8216   745.4381"
            ]
          },
          "metadata": {}
        }
      ]
    },
    {
      "cell_type": "code",
      "source": [
        "# Subset ALL\n",
        "golub_all <- golub.small |>\n",
        "  filter(cancer==c(\"allB\",\"allT\"))\n",
        "\n",
        "golub_all"
      ],
      "metadata": {
        "colab": {
          "base_uri": "https://localhost:8080/",
          "height": 224
        },
        "id": "ETVFHhdEGzPE",
        "outputId": "8d48c862-0c9d-4fa7-f6c3-87be3c211596"
      },
      "execution_count": 27,
      "outputs": [
        {
          "output_type": "display_data",
          "data": {
            "text/html": [
              "<table class=\"dataframe\">\n",
              "<caption>A data.frame: 4 × 11</caption>\n",
              "<thead>\n",
              "\t<tr><th></th><th scope=col>cancer</th><th scope=col>A</th><th scope=col>B</th><th scope=col>C</th><th scope=col>D</th><th scope=col>E</th><th scope=col>F</th><th scope=col>G</th><th scope=col>H</th><th scope=col>I</th><th scope=col>J</th></tr>\n",
              "\t<tr><th></th><th scope=col>&lt;chr&gt;</th><th scope=col>&lt;dbl&gt;</th><th scope=col>&lt;dbl&gt;</th><th scope=col>&lt;dbl&gt;</th><th scope=col>&lt;dbl&gt;</th><th scope=col>&lt;dbl&gt;</th><th scope=col>&lt;dbl&gt;</th><th scope=col>&lt;dbl&gt;</th><th scope=col>&lt;dbl&gt;</th><th scope=col>&lt;dbl&gt;</th><th scope=col>&lt;dbl&gt;</th></tr>\n",
              "</thead>\n",
              "<tbody>\n",
              "\t<tr><th scope=row>69</th><td>allB</td><td>39307.96</td><td>35232.40</td><td>41170.76</td><td>35792.79</td><td>-592.6711</td><td>-1053.3868</td><td>-512.93190</td><td>-537.29667</td><td>1702.0472</td><td>1119.5077</td></tr>\n",
              "\t<tr><th scope=row>67</th><td>allT</td><td>32281.88</td><td>41432.02</td><td>59328.51</td><td>49608.14</td><td>-123.0535</td><td> -511.3358</td><td> 265.22875</td><td>-271.71016</td><td>3566.7374</td><td>-489.1482</td></tr>\n",
              "\t<tr><th scope=row>55</th><td>allB</td><td>47429.94</td><td>35568.93</td><td>56074.96</td><td>42857.78</td><td>-208.1573</td><td> -711.8142</td><td>  31.67937</td><td>-312.81326</td><td> 432.8607</td><td> 400.1556</td></tr>\n",
              "\t<tr><th scope=row>59</th><td>allB</td><td>35960.55</td><td>24191.75</td><td>27637.90</td><td>22240.75</td><td>-273.7481</td><td> -632.3431</td><td>-488.49991</td><td>  20.01608</td><td>2258.7020</td><td> 348.2216</td></tr>\n",
              "</tbody>\n",
              "</table>\n"
            ],
            "text/markdown": "\nA data.frame: 4 × 11\n\n| <!--/--> | cancer &lt;chr&gt; | A &lt;dbl&gt; | B &lt;dbl&gt; | C &lt;dbl&gt; | D &lt;dbl&gt; | E &lt;dbl&gt; | F &lt;dbl&gt; | G &lt;dbl&gt; | H &lt;dbl&gt; | I &lt;dbl&gt; | J &lt;dbl&gt; |\n|---|---|---|---|---|---|---|---|---|---|---|---|\n| 69 | allB | 39307.96 | 35232.40 | 41170.76 | 35792.79 | -592.6711 | -1053.3868 | -512.93190 | -537.29667 | 1702.0472 | 1119.5077 |\n| 67 | allT | 32281.88 | 41432.02 | 59328.51 | 49608.14 | -123.0535 |  -511.3358 |  265.22875 | -271.71016 | 3566.7374 | -489.1482 |\n| 55 | allB | 47429.94 | 35568.93 | 56074.96 | 42857.78 | -208.1573 |  -711.8142 |   31.67937 | -312.81326 |  432.8607 |  400.1556 |\n| 59 | allB | 35960.55 | 24191.75 | 27637.90 | 22240.75 | -273.7481 |  -632.3431 | -488.49991 |   20.01608 | 2258.7020 |  348.2216 |\n\n",
            "text/latex": "A data.frame: 4 × 11\n\\begin{tabular}{r|lllllllllll}\n  & cancer & A & B & C & D & E & F & G & H & I & J\\\\\n  & <chr> & <dbl> & <dbl> & <dbl> & <dbl> & <dbl> & <dbl> & <dbl> & <dbl> & <dbl> & <dbl>\\\\\n\\hline\n\t69 & allB & 39307.96 & 35232.40 & 41170.76 & 35792.79 & -592.6711 & -1053.3868 & -512.93190 & -537.29667 & 1702.0472 & 1119.5077\\\\\n\t67 & allT & 32281.88 & 41432.02 & 59328.51 & 49608.14 & -123.0535 &  -511.3358 &  265.22875 & -271.71016 & 3566.7374 & -489.1482\\\\\n\t55 & allB & 47429.94 & 35568.93 & 56074.96 & 42857.78 & -208.1573 &  -711.8142 &   31.67937 & -312.81326 &  432.8607 &  400.1556\\\\\n\t59 & allB & 35960.55 & 24191.75 & 27637.90 & 22240.75 & -273.7481 &  -632.3431 & -488.49991 &   20.01608 & 2258.7020 &  348.2216\\\\\n\\end{tabular}\n",
            "text/plain": [
              "   cancer A        B        C        D        E         F          G         \n",
              "69 allB   39307.96 35232.40 41170.76 35792.79 -592.6711 -1053.3868 -512.93190\n",
              "67 allT   32281.88 41432.02 59328.51 49608.14 -123.0535  -511.3358  265.22875\n",
              "55 allB   47429.94 35568.93 56074.96 42857.78 -208.1573  -711.8142   31.67937\n",
              "59 allB   35960.55 24191.75 27637.90 22240.75 -273.7481  -632.3431 -488.49991\n",
              "   H          I         J        \n",
              "69 -537.29667 1702.0472 1119.5077\n",
              "67 -271.71016 3566.7374 -489.1482\n",
              "55 -312.81326  432.8607  400.1556\n",
              "59   20.01608 2258.7020  348.2216"
            ]
          },
          "metadata": {}
        }
      ]
    },
    {
      "cell_type": "markdown",
      "source": [
        "How does the expression of Gene A differ between individuals with AML versus ALL?"
      ],
      "metadata": {
        "id": "Hx-HLhuHLfPP"
      }
    },
    {
      "cell_type": "code",
      "source": [
        "golub_all |> mutate(mean(A))\n"
      ],
      "metadata": {
        "colab": {
          "base_uri": "https://localhost:8080/",
          "height": 224
        },
        "id": "TTH5lWFILicL",
        "outputId": "1bc2cd10-a45d-446c-cda6-91a9ac2d810e"
      },
      "execution_count": 38,
      "outputs": [
        {
          "output_type": "display_data",
          "data": {
            "text/html": [
              "<table class=\"dataframe\">\n",
              "<caption>A data.frame: 4 × 12</caption>\n",
              "<thead>\n",
              "\t<tr><th></th><th scope=col>cancer</th><th scope=col>A</th><th scope=col>B</th><th scope=col>C</th><th scope=col>D</th><th scope=col>E</th><th scope=col>F</th><th scope=col>G</th><th scope=col>H</th><th scope=col>I</th><th scope=col>J</th><th scope=col>mean(A)</th></tr>\n",
              "\t<tr><th></th><th scope=col>&lt;chr&gt;</th><th scope=col>&lt;dbl&gt;</th><th scope=col>&lt;dbl&gt;</th><th scope=col>&lt;dbl&gt;</th><th scope=col>&lt;dbl&gt;</th><th scope=col>&lt;dbl&gt;</th><th scope=col>&lt;dbl&gt;</th><th scope=col>&lt;dbl&gt;</th><th scope=col>&lt;dbl&gt;</th><th scope=col>&lt;dbl&gt;</th><th scope=col>&lt;dbl&gt;</th><th scope=col>&lt;dbl&gt;</th></tr>\n",
              "</thead>\n",
              "<tbody>\n",
              "\t<tr><th scope=row>69</th><td>allB</td><td>39307.96</td><td>35232.40</td><td>41170.76</td><td>35792.79</td><td>-592.6711</td><td>-1053.3868</td><td>-512.93190</td><td>-537.29667</td><td>1702.0472</td><td>1119.5077</td><td>38745.08</td></tr>\n",
              "\t<tr><th scope=row>67</th><td>allT</td><td>32281.88</td><td>41432.02</td><td>59328.51</td><td>49608.14</td><td>-123.0535</td><td> -511.3358</td><td> 265.22875</td><td>-271.71016</td><td>3566.7374</td><td>-489.1482</td><td>38745.08</td></tr>\n",
              "\t<tr><th scope=row>55</th><td>allB</td><td>47429.94</td><td>35568.93</td><td>56074.96</td><td>42857.78</td><td>-208.1573</td><td> -711.8142</td><td>  31.67937</td><td>-312.81326</td><td> 432.8607</td><td> 400.1556</td><td>38745.08</td></tr>\n",
              "\t<tr><th scope=row>59</th><td>allB</td><td>35960.55</td><td>24191.75</td><td>27637.90</td><td>22240.75</td><td>-273.7481</td><td> -632.3431</td><td>-488.49991</td><td>  20.01608</td><td>2258.7020</td><td> 348.2216</td><td>38745.08</td></tr>\n",
              "</tbody>\n",
              "</table>\n"
            ],
            "text/markdown": "\nA data.frame: 4 × 12\n\n| <!--/--> | cancer &lt;chr&gt; | A &lt;dbl&gt; | B &lt;dbl&gt; | C &lt;dbl&gt; | D &lt;dbl&gt; | E &lt;dbl&gt; | F &lt;dbl&gt; | G &lt;dbl&gt; | H &lt;dbl&gt; | I &lt;dbl&gt; | J &lt;dbl&gt; | mean(A) &lt;dbl&gt; |\n|---|---|---|---|---|---|---|---|---|---|---|---|---|\n| 69 | allB | 39307.96 | 35232.40 | 41170.76 | 35792.79 | -592.6711 | -1053.3868 | -512.93190 | -537.29667 | 1702.0472 | 1119.5077 | 38745.08 |\n| 67 | allT | 32281.88 | 41432.02 | 59328.51 | 49608.14 | -123.0535 |  -511.3358 |  265.22875 | -271.71016 | 3566.7374 | -489.1482 | 38745.08 |\n| 55 | allB | 47429.94 | 35568.93 | 56074.96 | 42857.78 | -208.1573 |  -711.8142 |   31.67937 | -312.81326 |  432.8607 |  400.1556 | 38745.08 |\n| 59 | allB | 35960.55 | 24191.75 | 27637.90 | 22240.75 | -273.7481 |  -632.3431 | -488.49991 |   20.01608 | 2258.7020 |  348.2216 | 38745.08 |\n\n",
            "text/latex": "A data.frame: 4 × 12\n\\begin{tabular}{r|llllllllllll}\n  & cancer & A & B & C & D & E & F & G & H & I & J & mean(A)\\\\\n  & <chr> & <dbl> & <dbl> & <dbl> & <dbl> & <dbl> & <dbl> & <dbl> & <dbl> & <dbl> & <dbl> & <dbl>\\\\\n\\hline\n\t69 & allB & 39307.96 & 35232.40 & 41170.76 & 35792.79 & -592.6711 & -1053.3868 & -512.93190 & -537.29667 & 1702.0472 & 1119.5077 & 38745.08\\\\\n\t67 & allT & 32281.88 & 41432.02 & 59328.51 & 49608.14 & -123.0535 &  -511.3358 &  265.22875 & -271.71016 & 3566.7374 & -489.1482 & 38745.08\\\\\n\t55 & allB & 47429.94 & 35568.93 & 56074.96 & 42857.78 & -208.1573 &  -711.8142 &   31.67937 & -312.81326 &  432.8607 &  400.1556 & 38745.08\\\\\n\t59 & allB & 35960.55 & 24191.75 & 27637.90 & 22240.75 & -273.7481 &  -632.3431 & -488.49991 &   20.01608 & 2258.7020 &  348.2216 & 38745.08\\\\\n\\end{tabular}\n",
            "text/plain": [
              "   cancer A        B        C        D        E         F          G         \n",
              "69 allB   39307.96 35232.40 41170.76 35792.79 -592.6711 -1053.3868 -512.93190\n",
              "67 allT   32281.88 41432.02 59328.51 49608.14 -123.0535  -511.3358  265.22875\n",
              "55 allB   47429.94 35568.93 56074.96 42857.78 -208.1573  -711.8142   31.67937\n",
              "59 allB   35960.55 24191.75 27637.90 22240.75 -273.7481  -632.3431 -488.49991\n",
              "   H          I         J         mean(A) \n",
              "69 -537.29667 1702.0472 1119.5077 38745.08\n",
              "67 -271.71016 3566.7374 -489.1482 38745.08\n",
              "55 -312.81326  432.8607  400.1556 38745.08\n",
              "59   20.01608 2258.7020  348.2216 38745.08"
            ]
          },
          "metadata": {}
        }
      ]
    },
    {
      "cell_type": "code",
      "source": [
        "?mutate"
      ],
      "metadata": {
        "id": "SEOlhz04NRP6"
      },
      "execution_count": 39,
      "outputs": []
    }
  ]
}